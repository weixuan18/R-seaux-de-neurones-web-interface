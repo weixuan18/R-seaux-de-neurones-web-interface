{
 "cells": [
  {
   "cell_type": "code",
   "execution_count": 1,
   "metadata": {
    "tags": []
   },
   "outputs": [],
   "source": [
    "import jieba\n",
    "import spacy\n",
    "import pandas as pd\n",
    "from tqdm import tqdm\n",
    "from sklearn.model_selection import train_test_split\n",
    "from langdetect import detect\n",
    "import nltk\n",
    "import pandas as pd\n",
    "from langdetect import detect\n",
    "from concurrent.futures import ThreadPoolExecutor\n",
    "import pandas as pd\n",
    "from tqdm import tqdm\n",
    "import numpy as np"
   ]
  },
  {
   "cell_type": "code",
   "execution_count": 7,
   "metadata": {
    "tags": []
   },
   "outputs": [],
   "source": [
    "# 读取CSV文件\n",
    "df = pd.read_csv('./fr_zh_500000.csv')\n",
    "\n",
    "# 从读取的数据中随机抽取50万条数据\n",
    "df_sampled = df.sample(n=200000, random_state=42)  # 设置随机种子以确保结果的可重复性"
   ]
  },
  {
   "cell_type": "code",
   "execution_count": 3,
   "metadata": {
    "tags": []
   },
   "outputs": [],
   "source": [
    "# 分词函数\n",
    "def tokenize_fr(text):\n",
    "    # 这里可以根据实际情况选择使用不同的分词工具\n",
    "    # 此处仅作示例，使用空格分词\n",
    "    return text.split()\n",
    "\n",
    "def tokenize_zh(text):\n",
    "    # 使用jieba进行中文分词\n",
    "    return jieba.lcut(text)\n",
    "\n",
    "# 定义函数，检查文本是否包含韩语\n",
    "def contains_korean(text):\n",
    "    try:\n",
    "        if detect(text) == 'ko':\n",
    "            return True\n",
    "        else:\n",
    "            return False\n",
    "    except:\n",
    "        # 某些文本可能无法识别语言，这种情况下我们默认不包含韩语\n",
    "        return False\n",
    "\n",
    "    \n",
    "# 定义 jieba 分词函数\n",
    "def jieba_tokenize(text):\n",
    "    tokens = jieba.lcut(text)\n",
    "    return tokens\n",
    "\n",
    "# 定义 SpaCy 分词函数\n",
    "def spacy_tokenize(text):\n",
    "    nlp = spacy.load(\"fr_core_news_sm\")\n",
    "    doc = nlp(text)\n",
    "    tokens = [token.text for token in doc]\n",
    "    return tokens\n",
    "\n",
    "# 定义函数，对法语文本进行分词\n",
    "def tokenize_french(text):\n",
    "    return nltk.word_tokenize(text, language='french')\n",
    "    "
   ]
  },
  {
   "cell_type": "markdown",
   "metadata": {
    "tags": []
   },
   "source": [
    "# 删除韩语"
   ]
  },
  {
   "cell_type": "code",
   "execution_count": 8,
   "metadata": {
    "tags": []
   },
   "outputs": [
    {
     "name": "stderr",
     "output_type": "stream",
     "text": [
      "200000it [13:58, 238.47it/s]"
     ]
    },
    {
     "name": "stdout",
     "output_type": "stream",
     "text": [
      "删除了 48656 条数据。\n"
     ]
    },
    {
     "name": "stderr",
     "output_type": "stream",
     "text": [
      "\n"
     ]
    }
   ],
   "source": [
    "# 初始化删除计数器\n",
    "deleted_count = 0\n",
    "\n",
    "# 检查 'zh' 列中每行的文本是否包含韩语，如果是，则删除该行，并增加计数器\n",
    "for index, row in tqdm(df_sampled.iterrows()):\n",
    "    if contains_korean(row['zh']):\n",
    "        df_sampled.drop(index, inplace=True)\n",
    "        deleted_count += 1\n",
    "\n",
    "# 打印删除的行数\n",
    "print(\"删除了 {} 条数据。\".format(deleted_count)) "
   ]
  },
  {
   "cell_type": "code",
   "execution_count": 10,
   "metadata": {},
   "outputs": [],
   "source": [
    "df_sampled = df_sampled.dropna()"
   ]
  },
  {
   "cell_type": "code",
   "execution_count": 11,
   "metadata": {
    "tags": []
   },
   "outputs": [
    {
     "name": "stderr",
     "output_type": "stream",
     "text": [
      "[nltk_data] Downloading package punkt to /home/xzhang/nltk_data...\n",
      "[nltk_data]   Package punkt is already up-to-date!\n",
      "100%|████████████████████████████████| 151343/151343 [00:12<00:00, 12379.82it/s]\n",
      "100%|█████████████████████████████████| 151343/151343 [00:15<00:00, 9928.25it/s]\n"
     ]
    }
   ],
   "source": [
    "nltk.download('punkt')\n",
    "# 对中文文本进行分词，并添加进度条\n",
    "tqdm.pandas()\n",
    "df_sampled['zh_tokens'] = df_sampled['zh'].progress_apply(jieba_tokenize)\n",
    "\n",
    "# 对法语文本进行分词，并添加进度条\n",
    "tqdm.pandas()\n",
    "df_sampled['fr_tokens'] = df_sampled['fr'].progress_apply(tokenize_french)"
   ]
  },
  {
   "cell_type": "code",
   "execution_count": 12,
   "metadata": {
    "tags": []
   },
   "outputs": [
    {
     "name": "stdout",
     "output_type": "stream",
     "text": [
      "        Unnamed: 0.1  Unnamed: 0  \\\n",
      "212188        212188      212188   \n",
      "299036        299036      299036   \n",
      "475978        475978      475978   \n",
      "764498        764498      764498   \n",
      "337706        337706      337706   \n",
      "\n",
      "                                                       fr  \\\n",
      "212188  Préoccupée par le fait que la base de ressourc...   \n",
      "299036                               SOCIAUX ET CULTURELS   \n",
      "475978  Bien qu &apos; une distinction claire ne soit ...   \n",
      "764498  La prévention des détournements en est l’aspec...   \n",
      "337706  Il ne devrait pas être nécessaire d &apos; exa...   \n",
      "\n",
      "                                                       zh  \\\n",
      "212188                                  关注研究训练所的资源基础不断下降,   \n",
      "299036                              三、从经济、社会、文化权利委员会收到的答复   \n",
      "475978  有人指出,虽然并非始终都能作出明确的区分,但是立法指南草案应该主要重点处理与专门处理私人融资...   \n",
      "764498              后一点尤其重要,因为区域间贩运的是前体,而不是安非他明类兴奋剂的最后产品。   \n",
      "337706              没有必要进一步讨论这一决定草案，因为预计它将在临时议程项目3(a)下通过。   \n",
      "\n",
      "                                                zh_tokens  \\\n",
      "212188              [关注, 研究, 训练, 所, 的, 资源, 基础, 不断, 下降, ,]   \n",
      "299036    [三, 、, 从, 经济, 、, 社会, 、, 文化, 权利, 委员会, 收到, 的, 答复]   \n",
      "475978  [有人, 指出, ,, 虽然, 并非, 始终, 都, 能, 作出, 明确, 的, 区分, ,...   \n",
      "764498  [后, 一点, 尤其, 重要, ,, 因为, 区域间, 贩运, 的, 是, 前体, ,, 而...   \n",
      "337706  [没有, 必要, 进一步, 讨论, 这一, 决定, 草案, ，, 因为, 预计, 它, 将,...   \n",
      "\n",
      "                                                fr_tokens  \n",
      "212188  [Préoccupée, par, le, fait, que, la, base, de,...  \n",
      "299036                           [SOCIAUX, ET, CULTURELS]  \n",
      "475978  [Bien, qu, &, apos, ;, une, distinction, clair...  \n",
      "764498  [La, prévention, des, détournements, en, est, ...  \n",
      "337706  [Il, ne, devrait, pas, être, nécessaire, d, &,...  \n"
     ]
    }
   ],
   "source": [
    "# 打印前几行数据，包含分词结果\n",
    "print(df_sampled.head())"
   ]
  },
  {
   "cell_type": "code",
   "execution_count": 13,
   "metadata": {},
   "outputs": [],
   "source": [
    "# 切割数据集\n",
    "train_df, temp_df = train_test_split(df_sampled, test_size=0.2, random_state=42)\n",
    "valid_df, test_df = train_test_split(temp_df, test_size=0.5, random_state=42)"
   ]
  },
  {
   "cell_type": "code",
   "execution_count": 14,
   "metadata": {
    "tags": []
   },
   "outputs": [],
   "source": [
    "# 将分词后的结果保存到文本文件中\n",
    "with open('./data/train.fr', 'w', encoding='utf-8') as f:\n",
    "    for tokens in train_df['fr_tokens']:\n",
    "        f.write(' '.join(tokens) + '\\n')\n",
    "\n",
    "with open('./data/train.zh', 'w', encoding='utf-8') as f:\n",
    "    for tokens in train_df['zh_tokens']:\n",
    "        f.write(' '.join(tokens) + '\\n')\n",
    "\n",
    "with open('./data/valid.fr', 'w', encoding='utf-8') as f:\n",
    "    for tokens in valid_df['fr_tokens']:\n",
    "        f.write(' '.join(tokens) + '\\n')\n",
    "\n",
    "with open('./data/valid.zh', 'w', encoding='utf-8') as f:\n",
    "    for tokens in valid_df['zh_tokens']:\n",
    "        f.write(' '.join(tokens) + '\\n')\n",
    "\n",
    "with open('./data/test.fr', 'w', encoding='utf-8') as f:\n",
    "    for tokens in test_df['fr_tokens']:\n",
    "        f.write(' '.join(tokens) + '\\n')\n",
    "\n",
    "with open('./data/test.zh', 'w', encoding='utf-8') as f:\n",
    "    for tokens in test_df['zh_tokens']:\n",
    "        f.write(' '.join(tokens) + '\\n')\n"
   ]
  },
  {
   "cell_type": "code",
   "execution_count": 15,
   "metadata": {
    "tags": []
   },
   "outputs": [
    {
     "name": "stdout",
     "output_type": "stream",
     "text": [
      "True\n",
      "NVIDIA GeForce RTX 3090 Ti\n"
     ]
    }
   ],
   "source": [
    "import torch\n",
    "\n",
    "print(torch.cuda.is_available())\n",
    "print(torch.cuda.get_device_name(0))"
   ]
  },
  {
   "cell_type": "markdown",
   "metadata": {},
   "source": [
    "# 数据分析"
   ]
  },
  {
   "cell_type": "code",
   "execution_count": 16,
   "metadata": {},
   "outputs": [
    {
     "name": "stdout",
     "output_type": "stream",
     "text": [
      "E: Impossible d'ouvrir le fichier verrou /var/lib/dpkg/lock-frontend - open (13: Permission non accordée)\n",
      "E: Impossible d'obtenir le verrou de dpkg (/var/lib/dpkg/lock-frontend). Avez-vous les droits du superutilisateur ?\n",
      "/usr/share/fonts: caching, new cache contents: 0 fonts, 6 dirs\n",
      "/usr/share/fonts/X11: caching, new cache contents: 0 fonts, 6 dirs\n",
      "/usr/share/fonts/X11/100dpi: caching, new cache contents: 358 fonts, 0 dirs\n",
      "/usr/share/fonts/X11/75dpi: caching, new cache contents: 358 fonts, 0 dirs\n",
      "/usr/share/fonts/X11/Type1: caching, new cache contents: 8 fonts, 0 dirs\n",
      "/usr/share/fonts/X11/encodings: caching, new cache contents: 0 fonts, 1 dirs\n",
      "/usr/share/fonts/X11/encodings/large: caching, new cache contents: 0 fonts, 0 dirs\n",
      "/usr/share/fonts/X11/misc: caching, new cache contents: 89 fonts, 0 dirs\n",
      "/usr/share/fonts/X11/util: caching, new cache contents: 0 fonts, 0 dirs\n",
      "/usr/share/fonts/cMap: caching, new cache contents: 0 fonts, 0 dirs\n",
      "/usr/share/fonts/cmap: caching, new cache contents: 0 fonts, 5 dirs\n",
      "/usr/share/fonts/cmap/adobe-cns1: caching, new cache contents: 0 fonts, 0 dirs\n",
      "/usr/share/fonts/cmap/adobe-gb1: caching, new cache contents: 0 fonts, 0 dirs\n",
      "/usr/share/fonts/cmap/adobe-japan1: caching, new cache contents: 0 fonts, 0 dirs\n",
      "/usr/share/fonts/cmap/adobe-japan2: caching, new cache contents: 0 fonts, 0 dirs\n",
      "/usr/share/fonts/cmap/adobe-korea1: caching, new cache contents: 0 fonts, 0 dirs\n",
      "/usr/share/fonts/opentype: caching, new cache contents: 0 fonts, 3 dirs\n",
      "/usr/share/fonts/opentype/font-awesome: caching, new cache contents: 1 fonts, 0 dirs\n",
      "/usr/share/fonts/opentype/mathjax: caching, new cache contents: 24 fonts, 0 dirs\n",
      "/usr/share/fonts/opentype/urw-base35: caching, new cache contents: 35 fonts, 0 dirs\n",
      "/usr/share/fonts/truetype: caching, new cache contents: 0 fonts, 9 dirs\n",
      "/usr/share/fonts/truetype/ancient-scripts: caching, new cache contents: 1 fonts, 0 dirs\n",
      "/usr/share/fonts/truetype/dejavu: caching, new cache contents: 22 fonts, 0 dirs\n",
      "/usr/share/fonts/truetype/droid: caching, new cache contents: 1 fonts, 0 dirs\n",
      "/usr/share/fonts/truetype/font-awesome: caching, new cache contents: 1 fonts, 0 dirs\n",
      "/usr/share/fonts/truetype/lato: caching, new cache contents: 18 fonts, 0 dirs\n",
      "/usr/share/fonts/truetype/liberation2: caching, new cache contents: 12 fonts, 0 dirs\n",
      "/usr/share/fonts/truetype/libreoffice: caching, new cache contents: 1 fonts, 0 dirs\n",
      "/usr/share/fonts/truetype/noto: caching, new cache contents: 3 fonts, 0 dirs\n",
      "/usr/share/fonts/truetype/quicksand: caching, new cache contents: 4 fonts, 0 dirs\n",
      "/usr/share/fonts/type1: caching, new cache contents: 0 fonts, 2 dirs\n",
      "/usr/share/fonts/type1/gsfonts: caching, new cache contents: 35 fonts, 0 dirs\n",
      "/usr/share/fonts/type1/urw-base35: caching, new cache contents: 35 fonts, 0 dirs\n",
      "/usr/local/share/fonts: caching, new cache contents: 0 fonts, 0 dirs\n",
      "/home/xzhang/.local/share/fonts: skipping, no such directory\n",
      "/home/xzhang/.fonts: skipping, no such directory\n",
      "/usr/share/fonts/X11: skipping, looped directory detected\n",
      "/usr/share/fonts/cMap: skipping, looped directory detected\n",
      "/usr/share/fonts/cmap: skipping, looped directory detected\n",
      "/usr/share/fonts/opentype: skipping, looped directory detected\n",
      "/usr/share/fonts/truetype: skipping, looped directory detected\n",
      "/usr/share/fonts/type1: skipping, looped directory detected\n",
      "/usr/share/fonts/X11/100dpi: skipping, looped directory detected\n",
      "/usr/share/fonts/X11/75dpi: skipping, looped directory detected\n",
      "/usr/share/fonts/X11/Type1: skipping, looped directory detected\n",
      "/usr/share/fonts/X11/encodings: skipping, looped directory detected\n",
      "/usr/share/fonts/X11/misc: skipping, looped directory detected\n",
      "/usr/share/fonts/X11/util: skipping, looped directory detected\n",
      "/usr/share/fonts/cmap/adobe-cns1: skipping, looped directory detected\n",
      "/usr/share/fonts/cmap/adobe-gb1: skipping, looped directory detected\n",
      "/usr/share/fonts/cmap/adobe-japan1: skipping, looped directory detected\n",
      "/usr/share/fonts/cmap/adobe-japan2: skipping, looped directory detected\n",
      "/usr/share/fonts/cmap/adobe-korea1: skipping, looped directory detected\n",
      "/usr/share/fonts/opentype/font-awesome: skipping, looped directory detected\n",
      "/usr/share/fonts/opentype/mathjax: skipping, looped directory detected\n",
      "/usr/share/fonts/opentype/urw-base35: skipping, looped directory detected\n",
      "/usr/share/fonts/truetype/ancient-scripts: skipping, looped directory detected\n",
      "/usr/share/fonts/truetype/dejavu: skipping, looped directory detected\n",
      "/usr/share/fonts/truetype/droid: skipping, looped directory detected\n",
      "/usr/share/fonts/truetype/font-awesome: skipping, looped directory detected\n",
      "/usr/share/fonts/truetype/lato: skipping, looped directory detected\n",
      "/usr/share/fonts/truetype/liberation2: skipping, looped directory detected\n",
      "/usr/share/fonts/truetype/libreoffice: skipping, looped directory detected\n",
      "/usr/share/fonts/truetype/noto: skipping, looped directory detected\n",
      "/usr/share/fonts/truetype/quicksand: skipping, looped directory detected\n",
      "/usr/share/fonts/type1/gsfonts: skipping, looped directory detected\n",
      "/usr/share/fonts/type1/urw-base35: skipping, looped directory detected\n",
      "/usr/share/fonts/X11/encodings/large: skipping, looped directory detected\n",
      "/var/cache/fontconfig: not cleaning unwritable cache directory\n",
      "/home/xzhang/.cache/fontconfig: cleaning cache directory\n",
      "/home/xzhang/.fontconfig: not cleaning non-existent cache directory\n",
      "fc-cache: succeeded\n"
     ]
    }
   ],
   "source": [
    "!apt-get install -y fonts-noto-cjk\n",
    "!fc-cache -fv\n",
    "!rm ~/.cache/matplotlib -rf"
   ]
  },
  {
   "cell_type": "code",
   "execution_count": 17,
   "metadata": {},
   "outputs": [
    {
     "name": "stdout",
     "output_type": "stream",
     "text": [
      "/usr/share/fonts/truetype/droid/DroidSansFallbackFull.ttf: Droid Sans Fallback:style=Regular\n"
     ]
    }
   ],
   "source": [
    "!fc-list :lang=zh"
   ]
  },
  {
   "cell_type": "code",
   "execution_count": 18,
   "metadata": {},
   "outputs": [
    {
     "name": "stderr",
     "output_type": "stream",
     "text": [
      "/tmp/ipykernel_2203131/2245320023.py:27: UserWarning: Glyph 108 (l) missing from current font.\n",
      "  plt.tight_layout()\n",
      "/tmp/ipykernel_2203131/2245320023.py:27: UserWarning: Glyph 112 (p) missing from current font.\n",
      "  plt.tight_layout()\n",
      "/tmp/ipykernel_2203131/2245320023.py:27: UserWarning: Glyph 44 (,) missing from current font.\n",
      "  plt.tight_layout()\n",
      "/tmp/ipykernel_2203131/2245320023.py:27: UserWarning: Glyph 46 (.) missing from current font.\n",
      "  plt.tight_layout()\n",
      "/tmp/ipykernel_2203131/2245320023.py:27: UserWarning: Glyph 47 (/) missing from current font.\n",
      "  plt.tight_layout()\n",
      "/home/xzhang/xzhang/lib/python3.9/site-packages/IPython/core/pylabtools.py:152: UserWarning: Glyph 108 (l) missing from current font.\n",
      "  fig.canvas.print_figure(bytes_io, **kw)\n",
      "/home/xzhang/xzhang/lib/python3.9/site-packages/IPython/core/pylabtools.py:152: UserWarning: Glyph 112 (p) missing from current font.\n",
      "  fig.canvas.print_figure(bytes_io, **kw)\n",
      "/home/xzhang/xzhang/lib/python3.9/site-packages/IPython/core/pylabtools.py:152: UserWarning: Glyph 44 (,) missing from current font.\n",
      "  fig.canvas.print_figure(bytes_io, **kw)\n",
      "/home/xzhang/xzhang/lib/python3.9/site-packages/IPython/core/pylabtools.py:152: UserWarning: Glyph 46 (.) missing from current font.\n",
      "  fig.canvas.print_figure(bytes_io, **kw)\n",
      "/home/xzhang/xzhang/lib/python3.9/site-packages/IPython/core/pylabtools.py:152: UserWarning: Glyph 47 (/) missing from current font.\n",
      "  fig.canvas.print_figure(bytes_io, **kw)\n"
     ]
    },
    {
     "data": {
      "image/png": "[encoded data removed]",
      "text/plain": [
       "<Figure size 1200x600 with 2 Axes>"
      ]
     },
     "metadata": {},
     "output_type": "display_data"
    },
    {
     "name": "stdout",
     "output_type": "stream",
     "text": [
      "French Vocabulary Size: 79834\n",
      "Chinese Vocabulary Size: 69780\n"
     ]
    }
   ],
   "source": [
    "from collections import Counter\n",
    "import matplotlib.pyplot as plt\n",
    "from matplotlib.font_manager import FontProperties\n",
    "\n",
    "font_path = '/usr/share/fonts/truetype/droid/DroidSansFallbackFull.ttf'\n",
    "prop = FontProperties(fname=font_path)\n",
    "\n",
    "\n",
    "# 统计法语词频\n",
    "fr_all_tokens = [token for tokens_list in df_sampled['fr_tokens'] for token in tokens_list]\n",
    "fr_word_counts = Counter(fr_all_tokens)\n",
    "\n",
    "# 统计中文词频\n",
    "zh_all_tokens = [token for tokens_list in df_sampled['zh_tokens'] for token in tokens_list]\n",
    "zh_word_counts = Counter(zh_all_tokens)\n",
    "\n",
    "# 词频统计图\n",
    "plt.figure(figsize=(12, 6))\n",
    "plt.subplot(1, 2, 1)\n",
    "plt.bar(range(10), [count for word, count in fr_word_counts.most_common(10)], tick_label=[word for word, count in fr_word_counts.most_common(10)])\n",
    "plt.title('Top 10 Frequent Words in French')\n",
    "plt.xticks(rotation=45)\n",
    "plt.subplot(1, 2, 2)\n",
    "plt.bar(range(10), [count for word, count in zh_word_counts.most_common(10)], tick_label=[word for word, count in zh_word_counts.most_common(10)])\n",
    "plt.title('Top 10 Frequent Words in Chinese')\n",
    "plt.xticks(rotation=45, fontproperties=prop)\n",
    "plt.tight_layout()\n",
    "plt.show()\n",
    "\n",
    "# 词汇量统计\n",
    "fr_vocab_size = len(fr_word_counts)\n",
    "zh_vocab_size = len(zh_word_counts)\n",
    "print(f\"French Vocabulary Size: {fr_vocab_size}\")\n",
    "print(f\"Chinese Vocabulary Size: {zh_vocab_size}\")"
   ]
  },
  {
   "cell_type": "code",
   "execution_count": 19,
   "metadata": {},
   "outputs": [
    {
     "data": {
      "image/png": "[encoded data removed]",
      "text/plain": [
       "<Figure size 1200x600 with 2 Axes>"
      ]
     },
     "metadata": {},
     "output_type": "display_data"
    }
   ],
   "source": [
    "# 统计法语句子长度\n",
    "fr_sentence_lengths = [len(tokens) for tokens in df_sampled['fr_tokens']]\n",
    "\n",
    "# 统计中文句子长度\n",
    "zh_sentence_lengths = [len(tokens) for tokens in df_sampled['zh_tokens']]\n",
    "\n",
    "# 句子长度分布图\n",
    "plt.figure(figsize=(12, 6))\n",
    "plt.subplot(1, 2, 1)\n",
    "plt.hist(fr_sentence_lengths, bins=20)\n",
    "plt.title('French Sentence Length Distribution')\n",
    "plt.xlabel('Length')\n",
    "plt.ylabel('Frequency')\n",
    "plt.subplot(1, 2, 2)\n",
    "plt.hist(zh_sentence_lengths, bins=20)\n",
    "plt.title('Chinese Sentence Length Distribution')\n",
    "plt.xlabel('Length')\n",
    "plt.ylabel('Frequency')\n",
    "plt.tight_layout()\n",
    "plt.show()"
   ]
  },
  {
   "cell_type": "code",
   "execution_count": null,
   "metadata": {},
   "outputs": [],
   "source": []
  }
 ],
 "metadata": {
  "kernelspec": {
   "display_name": "Python 3 (ipykernel)",
   "language": "python",
   "name": "python3"
  },
  "language_info": {
   "codemirror_mode": {
    "name": "ipython",
    "version": 3
   },
   "file_extension": ".py",
   "mimetype": "text/x-python",
   "name": "python",
   "nbconvert_exporter": "python",
   "pygments_lexer": "ipython3",
   "version": "3.9.2"
  }
 },
 "nbformat": 4,
 "nbformat_minor": 4
}
